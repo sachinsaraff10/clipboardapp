{
 "cells": [
  {
   "cell_type": "code",
   "execution_count": 2,
   "id": "0631bc06",
   "metadata": {},
   "outputs": [],
   "source": [
    "import os\n",
    "import json\n",
    "import time\n",
    "import threading\n",
    "import tkinter as tk\n",
    "from tkinter import messagebox\n",
    "import pyperclip\n",
    "import keyboard"
   ]
  },
  {
   "cell_type": "code",
   "execution_count": 3,
   "id": "0742913a",
   "metadata": {},
   "outputs": [],
   "source": [
    "# ---------- Settings ----------\n",
    "APP_DIR = os.path.join(os.getenv(\"APPDATA\") or \".\", \"ClipMVP\")\n",
    "HISTORY_PATH = os.path.join(APP_DIR, \"history.json\")\n",
    "MAX_HISTORY = 500\n",
    "POLL_INTERVAL = 0.5  # seconds\n",
    "HOTKEY_OPEN = \"ctrl+shift+v\"\n",
    "# ------------------------------"
   ]
  },
  {
   "cell_type": "code",
   "execution_count": 4,
   "id": "399adc81",
   "metadata": {},
   "outputs": [],
   "source": [
    "os.makedirs(APP_DIR, exist_ok=True)\n",
    "\n",
    "_history_lock = threading.Lock()\n",
    "clipboard_history = []\n",
    "last_clipboard = \"\"\n"
   ]
  },
  {
   "cell_type": "code",
   "execution_count": 5,
   "id": "5046eee2",
   "metadata": {},
   "outputs": [],
   "source": [
    "# HISTORY_FILE = \"clipboard_history.json\"\n",
    "def load_history():\n",
    "    global clipboard_history\n",
    "    if os.path.exists(HISTORY_PATH):\n",
    "        try:\n",
    "            with open(HISTORY_PATH, \"r\", encoding=\"utf-8\") as f:\n",
    "                data = json.load(f)\n",
    "            if isinstance(data, list):\n",
    "                clipboard_history = data[:MAX_HISTORY]\n",
    "        except Exception:\n",
    "            clipboard_history = []\n",
    "\n"
   ]
  },
  {
   "cell_type": "code",
   "execution_count": null,
   "id": "a7b3d68f",
   "metadata": {},
   "outputs": [
    {
     "ename": "",
     "evalue": "",
     "output_type": "error",
     "traceback": [
      "\u001b[1;31mThe Kernel crashed while executing code in the current cell or a previous cell. \n",
      "\u001b[1;31mPlease review the code in the cell(s) to identify a possible cause of the failure. \n",
      "\u001b[1;31mClick <a href='https://aka.ms/vscodeJupyterKernelCrash'>here</a> for more info. \n",
      "\u001b[1;31mView Jupyter <a href='command:jupyter.viewOutput'>log</a> for further details."
     ]
    }
   ],
   "source": [
    "def save_history():\n",
    "    try:\n",
    "        with open(HISTORY_PATH, \"w\", encoding=\"utf-8\") as f:\n",
    "            json.dump(clipboard_history[:MAX_HISTORY], f, ensure_ascii=False, indent=2)\n",
    "    except Exception:\n",
    "        pass\n"
   ]
  },
  {
   "cell_type": "code",
   "execution_count": 7,
   "id": "ae035313",
   "metadata": {},
   "outputs": [],
   "source": [
    "def add_clip(text: str):\n",
    "    text = text.strip()\n",
    "    if not text:\n",
    "        return\n",
    "    with _history_lock:\n",
    "        # Move to top if it already exists elsewhere\n",
    "        if text in clipboard_history:\n",
    "            clipboard_history.remove(text)\n",
    "        clipboard_history.insert(0, text)\n",
    "        # Trim\n",
    "        if len(clipboard_history) > MAX_HISTORY:\n",
    "            del clipboard_history[MAX_HISTORY:]\n",
    "        save_history()\n"
   ]
  },
  {
   "cell_type": "code",
   "execution_count": 8,
   "id": "8f358e29",
   "metadata": {},
   "outputs": [],
   "source": [
    "def watch_clipboard():\n",
    "    global last_clipboard\n",
    "    while True:\n",
    "        try:\n",
    "            text = pyperclip.paste()\n",
    "            if isinstance(text, str) and text and text != last_clipboard:\n",
    "                last_clipboard = text\n",
    "                add_clip(text)\n",
    "        except Exception:\n",
    "            pass\n",
    "        time.sleep(POLL_INTERVAL)\n"
   ]
  },
  {
   "cell_type": "code",
   "execution_count": 9,
   "id": "7bb8b7f2",
   "metadata": {},
   "outputs": [],
   "source": [
    "from tkinter import ttk"
   ]
  },
  {
   "cell_type": "code",
   "execution_count": 12,
   "id": "a7204f66",
   "metadata": {},
   "outputs": [],
   "source": [
    "import base64"
   ]
  },
  {
   "cell_type": "code",
   "execution_count": null,
   "id": "c1fa7323",
   "metadata": {},
   "outputs": [
    {
     "ename": "",
     "evalue": "",
     "output_type": "error",
     "traceback": [
      "\u001b[1;31mThe Kernel crashed while executing code in the current cell or a previous cell. \n",
      "\u001b[1;31mPlease review the code in the cell(s) to identify a possible cause of the failure. \n",
      "\u001b[1;31mClick <a href='https://aka.ms/vscodeJupyterKernelCrash'>here</a> for more info. \n",
      "\u001b[1;31mView Jupyter <a href='command:jupyter.viewOutput'>log</a> for further details."
     ]
    }
   ],
   "source": [
    "def show_history_window():\n",
    "    # Build GUI\n",
    "    win = tk.Tk()\n",
    "    win.title(\"Clipboard History\")\n",
    "    win.geometry(\"520x380\")\n",
    "    win.attributes(\"-topmost\", True)  # pop above quickly\n",
    "    def _minimize_if_unfocused():\n",
    "        # If no widget of this window currently has focus, minimize\n",
    "        if win.focus_displayof() is None:\n",
    "            win.iconify()\n",
    "    \n",
    "\n",
    "    # tiny 16x16 \"copy\" icon (two rectangles). Keep one PhotoImage alive.\n",
    "    COPY_PNG_B64 = \"\"\"\n",
    "    iVBORw0KGgoAAAANSUhEUgAAABAAAAAQCAYAAAAf8/9hAAAARklEQVQ4T2NkoBAwUqifYcABYb8B\n",
    "    wz8Gg2EwHIEUk1A0gEw0Q6gYB1G8GkQxg2kGg9E1gNQFQmA0Q0h0g0gWg9gGgAAQk2h4w6Q0A0Yk\n",
    "    QAA3i3r8k2u6XQAAAABJRU5ErkJggg==\n",
    "    \"\"\"  # placeholder; any small PNG works\n",
    "    copy_img = tk.PhotoImage(data=base64.b64decode(COPY_PNG_B64))\n",
    "\n",
    "    # --- replace your listbox section with this ---\n",
    "    # Container\n",
    "    scrollbar = tk.Scrollbar(frame)\n",
    "    scrollbar.pack(side=tk.RIGHT, fill=tk.Y)\n",
    "\n",
    "    tree = ttk.Treeview(frame, columns=(\"text\",), show=\"tree\", selectmode=\"extended\", height=14\n",
    "                        ,yscrollcommand=scrollbar.set)\n",
    "    tree.pack(side=tk.LEFT, fill=tk.BOTH, expand=True)\n",
    "\n",
    "    scrollbar.config(command=tree.yview)\n",
    "    \n",
    "    # tree.configure(yscrollcommand=scrollbar.set)\n",
    "\n",
    "    # Make rows\n",
    "    row_id_by_index = []\n",
    "    with _history_lock:\n",
    "        items = clipboard_history[:200]\n",
    "    for i, item in enumerate(items):\n",
    "        display = item.replace(\"\\n\", \" ⏎ \").strip()\n",
    "        if len(display) > 140:\n",
    "            display = display[:140] + \" …\"\n",
    "        iid = tree.insert(\"\", \"end\", text=display, image=copy_img, values=(item,))\n",
    "        row_id_by_index.append(iid)\n",
    "\n",
    "    # helper: get original text from a row\n",
    "    def _text_from_iid(iid):\n",
    "        # we stashed the real text in values[0]\n",
    "        return tree.set(iid, \"text\") if tree[\"columns\"] == (\"text\",) else \"\"\n",
    "\n",
    "    # Copy when clicking the icon area\n",
    "    def on_tree_click(event):\n",
    "        # Identify where the user clicked\n",
    "        region = tree.identify(\"region\", event.x, event.y)   # \"tree\", \"cell\", \"heading\", \"separator\", etc.\n",
    "        iid = tree.identify_row(event.y)\n",
    "        if not iid:\n",
    "            return\n",
    "        # If click is in the \"tree\" region (icon/text column), treat it as copy icon\n",
    "        if region == \"tree\":\n",
    "            real_text = tree.set(iid, \"text\")\n",
    "            if not real_text:\n",
    "                # Fallback: rebuild index from position\n",
    "                idx = tree.index(iid)\n",
    "                real_text = items[idx]\n",
    "            pyperclip.copy(real_text)\n",
    "\n",
    "    tree.bind(\"<Button-1>\", on_tree_click)\n",
    "\n",
    "\n",
    "    def _on_focus_out(evt):\n",
    "        # Small delay avoids false positives when focus moves between child widgets\n",
    "        win.after(120, _minimize_if_unfocused)\n",
    "\n",
    "    win.bind(\"<FocusOut>\", _on_focus_out)\n",
    "\n",
    "    # Optional: also minimize with Esc instead of closing\n",
    "    # win.bind(\"<Escape>\", lambda e: win.iconify())\n",
    "    # Listbox with scrollbar, multi-select\n",
    "    frame = tk.Frame(win)\n",
    "    frame.pack(fill=tk.BOTH, expand=True, padx=8, pady=8)\n",
    "\n",
    "    \n",
    "\n",
    "    lb = tk.Listbox(frame, selectmode=tk.EXTENDED, activestyle=\"dotbox\")\n",
    "    lb.pack(side=tk.LEFT, fill=tk.BOTH, expand=True)\n",
    "    lb.config(yscrollcommand=scrollbar.set)\n",
    "    \n",
    "\n",
    "    # Populate list\n",
    "    with _history_lock:\n",
    "        items = clipboard_history[:200]\n",
    "    for item in items:\n",
    "        # Keep lines short in the UI, but store full strings in listbox anyway\n",
    "        display = item.replace(\"\\n\", \" ⏎ \").strip()\n",
    "        if len(display) > 140:\n",
    "            display = display[:140] + \" …\"\n",
    "        lb.insert(tk.END, display)\n",
    "        # Listbox still holds actual text via an index lookup later\n",
    "\n",
    "    # Actions bar\n",
    "    btns = tk.Frame(win)\n",
    "    btns.pack(fill=tk.X, padx=8, pady=(0,8))\n",
    "\n",
    "    def selected_texts():\n",
    "        idxs = lb.curselection()\n",
    "        if not idxs:\n",
    "            return []\n",
    "        # Map UI indices back to the actual strings\n",
    "        with _history_lock:\n",
    "            return [items[i] for i in idxs if 0 <= i < len(items)]\n",
    "\n",
    "    def copy_selected():\n",
    "        texts = selected_texts()\n",
    "        if not texts:\n",
    "            messagebox.showwarning(\"Clipboard\", \"Select one or more entries.\")\n",
    "            return\n",
    "        # Join as separate paragraphs\n",
    "        combined = \"\\n\\n\".join(t.strip() for t in texts if t.strip())\n",
    "        pyperclip.copy(combined)\n",
    "\n",
    "    def combine_and_paste():\n",
    "        copy_selected()\n",
    "        # Send Ctrl+V to paste wherever the focus is\n",
    "        try:\n",
    "            keyboard.send(\"ctrl+v\")\n",
    "        except Exception:\n",
    "            messagebox.showinfo(\"Clipboard\", \"Combined text copied. Press Ctrl+V to paste.\")\n",
    "\n",
    "    def delete_selected():\n",
    "        selected = lb.curselection()\n",
    "        if not selected:\n",
    "            return\n",
    "        idx = selected[0]\n",
    "        items.pop(idx)\n",
    "        lb.delete(idx)\n",
    "        save_history(items)\n",
    "\n",
    "\n",
    "    def on_double_click(_evt):\n",
    "        # Double-click on one item: copy and paste that single item\n",
    "        sel = selected_texts()\n",
    "        if not sel:\n",
    "            return\n",
    "        pyperclip.copy(sel[0])\n",
    "        try:\n",
    "            keyboard.send(\"ctrl+v\")\n",
    "        finally:\n",
    "            win.destroy()\n",
    "\n",
    "    # Buttons\n",
    "    tk.Button(btns, text=\"Copy Combined\", command=copy_selected).pack(side=tk.LEFT, padx=(0,8))\n",
    "    tk.Button(btns, text=\"Combine & Paste\", command=combine_and_paste).pack(side=tk.LEFT, padx=(0,8))\n",
    "    tk.Button(btns, text=\"Delete Selected\", command=delete_selected).pack(side=tk.LEFT, padx=(0,8))\n",
    "    tk.Button(btns, text=\"Close (Esc)\", command=win.destroy).pack(side=tk.RIGHT)\n",
    "\n",
    "    # Shortcuts\n",
    "    win.bind(\"<Escape>\", lambda e: win.destroy())\n",
    "    lb.bind(\"<Double-Button-1>\", on_double_click)\n",
    "    win.mainloop()  \n"
   ]
  },
  {
   "cell_type": "code",
   "execution_count": 10,
   "id": "dfb538a8",
   "metadata": {},
   "outputs": [],
   "source": [
    "def main():\n",
    "    load_history()\n",
    "    threading.Thread(target=watch_clipboard, daemon=True).start()\n",
    "    keyboard.add_hotkey(HOTKEY_OPEN, show_history_window)\n",
    "    print(f\"ClipMVP running. Press {HOTKEY_OPEN} to open history.\")\n",
    "    # NOTE: keyboard may require Administrator privileges on some systems\n",
    "    keyboard.wait()\n"
   ]
  },
  {
   "cell_type": "code",
   "execution_count": null,
   "id": "d8a0b0b1",
   "metadata": {},
   "outputs": [],
   "source": []
  },
  {
   "cell_type": "code",
   "execution_count": 1,
   "id": "b09715aa",
   "metadata": {},
   "outputs": [
    {
     "ename": "NameError",
     "evalue": "name 'show_history_window' is not defined",
     "output_type": "error",
     "traceback": [
      "\u001b[1;31m---------------------------------------------------------------------------\u001b[0m",
      "\u001b[1;31mNameError\u001b[0m                                 Traceback (most recent call last)",
      "Cell \u001b[1;32mIn[1], line 1\u001b[0m\n\u001b[1;32m----> 1\u001b[0m \u001b[43mshow_history_window\u001b[49m()\n",
      "\u001b[1;31mNameError\u001b[0m: name 'show_history_window' is not defined"
     ]
    }
   ],
   "source": [
    "show_history_window()"
   ]
  },
  {
   "cell_type": "code",
   "execution_count": 11,
   "id": "df1990c9",
   "metadata": {},
   "outputs": [
    {
     "name": "stdout",
     "output_type": "stream",
     "text": [
      "ClipMVP running. Press ctrl+shift+v to open history.\n"
     ]
    },
    {
     "name": "stderr",
     "output_type": "stream",
     "text": [
      "Exception in Tkinter callback\n",
      "Traceback (most recent call last):\n",
      "  File \"C:\\Program Files\\WindowsApps\\PythonSoftwareFoundation.Python.3.10_3.10.3056.0_x64__qbz5n2kfra8p0\\lib\\tkinter\\__init__.py\", line 1921, in __call__\n",
      "    return self.func(*args)\n",
      "  File \"C:\\Users\\p_sar\\AppData\\Local\\Temp\\ipykernel_34064\\3912465859.py\", line 67, in delete_selected\n",
      "    save_history(items)\n",
      "TypeError: save_history() takes 0 positional arguments but 1 was given\n",
      "Exception in Tkinter callback\n",
      "Traceback (most recent call last):\n",
      "  File \"C:\\Program Files\\WindowsApps\\PythonSoftwareFoundation.Python.3.10_3.10.3056.0_x64__qbz5n2kfra8p0\\lib\\tkinter\\__init__.py\", line 1921, in __call__\n",
      "    return self.func(*args)\n",
      "  File \"C:\\Users\\p_sar\\AppData\\Local\\Temp\\ipykernel_34064\\3912465859.py\", line 67, in delete_selected\n",
      "    save_history(items)\n",
      "TypeError: save_history() takes 0 positional arguments but 1 was given\n",
      "Exception in Tkinter callback\n",
      "Traceback (most recent call last):\n",
      "  File \"C:\\Program Files\\WindowsApps\\PythonSoftwareFoundation.Python.3.10_3.10.3056.0_x64__qbz5n2kfra8p0\\lib\\tkinter\\__init__.py\", line 1921, in __call__\n",
      "    return self.func(*args)\n",
      "  File \"C:\\Users\\p_sar\\AppData\\Local\\Temp\\ipykernel_34064\\3912465859.py\", line 67, in delete_selected\n",
      "    save_history(items)\n",
      "TypeError: save_history() takes 0 positional arguments but 1 was given\n",
      "Exception in Tkinter callback\n",
      "Traceback (most recent call last):\n",
      "  File \"C:\\Program Files\\WindowsApps\\PythonSoftwareFoundation.Python.3.10_3.10.3056.0_x64__qbz5n2kfra8p0\\lib\\tkinter\\__init__.py\", line 1921, in __call__\n",
      "    return self.func(*args)\n",
      "  File \"C:\\Users\\p_sar\\AppData\\Local\\Temp\\ipykernel_34064\\3912465859.py\", line 67, in delete_selected\n",
      "    save_history(items)\n",
      "TypeError: save_history() takes 0 positional arguments but 1 was given\n"
     ]
    },
    {
     "ename": "",
     "evalue": "",
     "output_type": "error",
     "traceback": [
      "\u001b[1;31mThe Kernel crashed while executing code in the current cell or a previous cell. \n",
      "\u001b[1;31mPlease review the code in the cell(s) to identify a possible cause of the failure. \n",
      "\u001b[1;31mClick <a href='https://aka.ms/vscodeJupyterKernelCrash'>here</a> for more info. \n",
      "\u001b[1;31mView Jupyter <a href='command:jupyter.viewOutput'>log</a> for further details."
     ]
    }
   ],
   "source": [
    "if __name__ == \"__main__\":\n",
    "    main()"
   ]
  }
 ],
 "metadata": {
  "kernelspec": {
   "display_name": "Python (newkernel)",
   "language": "python",
   "name": "newkernel"
  },
  "language_info": {
   "codemirror_mode": {
    "name": "ipython",
    "version": 3
   },
   "file_extension": ".py",
   "mimetype": "text/x-python",
   "name": "python",
   "nbconvert_exporter": "python",
   "pygments_lexer": "ipython3",
   "version": "3.10.11"
  }
 },
 "nbformat": 4,
 "nbformat_minor": 5
}
